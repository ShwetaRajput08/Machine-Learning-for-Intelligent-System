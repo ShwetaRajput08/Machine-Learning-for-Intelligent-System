{
  "nbformat": 4,
  "nbformat_minor": 0,
  "metadata": {
    "colab": {
      "provenance": [],
      "authorship_tag": "ABX9TyPbCdu8g8JH4Vy/CR8wky3W",
      "include_colab_link": true
    },
    "kernelspec": {
      "name": "python3",
      "display_name": "Python 3"
    },
    "language_info": {
      "name": "python"
    }
  },
  "cells": [
    {
      "cell_type": "markdown",
      "metadata": {
        "id": "view-in-github",
        "colab_type": "text"
      },
      "source": [
        "<a href=\"https://colab.research.google.com/github/ShwetaRajput08/Machine-Learning-for-Intelligent-System/blob/main/Linear_Regression.ipynb\" target=\"_parent\"><img src=\"https://colab.research.google.com/assets/colab-badge.svg\" alt=\"Open In Colab\"/></a>"
      ]
    },
    {
      "cell_type": "code",
      "source": [
        "import pandas as pd\n",
        "import numpy as np\n",
        "import matplotlib.pyplot as plt\n",
        "from sklearn.linear_model import LinearRegression\n",
        "from sklearn.metrics import mean_squared_error, r2_score\n",
        "\n",
        "# Load dataset\n",
        "data = pd.read_csv(\"your CSV File\")\n",
        "data.head()"
      ],
      "metadata": {
        "id": "IALYA2LEHm2O"
      },
      "execution_count": null,
      "outputs": []
    },
    {
      "cell_type": "code",
      "source": [
        "X =\n",
        "y =\n",
        "\n",
        "# Train Linear Regression model\n",
        "lr = LinearRegression()\n",
        "lr.fit(X, y)\n",
        "\n",
        "# Predictions\n",
        "y_pred = lr.predict(X)\n",
        "\n",
        "# Evaluation\n",
        "print(\"Coefficients:\", lr.coef_)\n",
        "print(\"Intercept:\", lr.intercept_)\n",
        "print(\"MSE:\", mean_squared_error(y, y_pred))\n",
        "print(\"R² Score:\", r2_score(y, y_pred))\n",
        "\n",
        "# Plot predictions\n",
        "plt.scatter(data[''], y, color='blue', label='Actual Price')\n",
        "plt.scatter(data[''], y_pred, color='red', label='Predicted Price')\n",
        "plt.xlabel('')\n",
        "plt.ylabel('')\n",
        "plt.legend()\n",
        "plt.show()"
      ],
      "metadata": {
        "id": "XH0dY4QIG9W8"
      },
      "execution_count": null,
      "outputs": []
    },
    {
      "cell_type": "code",
      "source": [],
      "metadata": {
        "id": "mhJ_DbbjHpJy"
      },
      "execution_count": null,
      "outputs": []
    }
  ]
}