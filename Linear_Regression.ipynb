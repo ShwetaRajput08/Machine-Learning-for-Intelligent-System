{
  "nbformat": 4,
  "nbformat_minor": 0,
  "metadata": {
    "colab": {
      "provenance": [],
      "authorship_tag": "ABX9TyNTKcJsxYZ7+sJ6rDmASwg3",
      "include_colab_link": true
    },
    "kernelspec": {
      "name": "python3",
      "display_name": "Python 3"
    },
    "language_info": {
      "name": "python"
    }
  },
  "cells": [
    {
      "cell_type": "markdown",
      "metadata": {
        "id": "view-in-github",
        "colab_type": "text"
      },
      "source": [
        "<a href=\"https://colab.research.google.com/github/ShwetaRajput08/Machine-Learning-for-Intelligent-System/blob/main/Linear_Regression.ipynb\" target=\"_parent\"><img src=\"https://colab.research.google.com/assets/colab-badge.svg\" alt=\"Open In Colab\"/></a>"
      ]
    },
    {
      "cell_type": "code",
      "source": [
        "import pandas as pd\n",
        "import numpy as np\n",
        "import matplotlib.pyplot as plt\n",
        "from sklearn.linear_model import LinearRegression\n",
        "from sklearn.metrics import mean_squared_error, r2_score\n",
        "\n",
        "# Load dataset\n",
        "data = pd.read_csv(\"your CSV File\")\n",
        "data.head()"
      ],
      "metadata": {
        "id": "IALYA2LEHm2O"
      },
      "execution_count": null,
      "outputs": []
    },
    {
      "cell_type": "code",
      "source": [
        "X =\n",
        "y =\n",
        "\n",
        "# Train Linear Regression model\n",
        "lr = LinearRegression()\n",
        "lr.fit(X, y)\n",
        "\n",
        "# Predictions\n",
        "y_pred = lr.predict(X)\n",
        "\n",
        "# Evaluation\n",
        "print(\"Coefficients:\", lr.coef_)\n",
        "print(\"Intercept:\", lr.intercept_)\n",
        "print(\"MSE:\", mean_squared_error(y, y_pred))\n",
        "print(\"R² Score:\", r2_score(y, y_pred))\n",
        "\n",
        "# Plot predictions\n",
        "plt.scatter(data[''], y, color='blue', label='Actual Price')\n",
        "plt.scatter(data[''], y_pred, color='red', label='Predicted Price')\n",
        "plt.xlabel('')\n",
        "plt.ylabel('')\n",
        "plt.legend()\n",
        "plt.show()"
      ],
      "metadata": {
        "id": "XH0dY4QIG9W8"
      },
      "execution_count": null,
      "outputs": []
    },
    {
      "cell_type": "markdown",
      "source": [
        "# **Implement Locally Weighted Linear Regression (LWLR)**"
      ],
      "metadata": {
        "id": "X11x-DiWJ3BS"
      }
    },
    {
      "cell_type": "markdown",
      "source": [
        "*   LWLR is a non-parametric algorithm where predictions depend more on nearby points.\n",
        "* Use Gaussian kernel weighting: ![pic.png](data:image/png;base64,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)\n",
        "*  Choose bandwidth (τ) value\n",
        "\n"
      ],
      "metadata": {
        "id": "R3i-YoWqJ6p8"
      }
    },
    {
      "cell_type": "code",
      "source": [
        "# Weight Matrix in code. It is a diagonal matrix.\n",
        "def wm(point, X, tau):\n",
        "# tau --> bandwidth\n",
        "# X --> Training data.\n",
        "# point --> the x where we want to make the prediction.\n",
        "# m is the No of training examples .\n",
        "m = X.shape[0]\n",
        "# Initialising W as an identity matrix.\n",
        "w = np.asmatrix(np.eye(m))\n",
        "#numpy.eye() is a function in the NumPy library that creates a\n",
        "#2D array with ones on the diagonal and zeros elsewhere\n",
        "# Calculating weights for all training examples [x(i)'s].\n",
        "for i in range(m):\n",
        "xi = X[i]\n",
        "d = (-2 * tau * tau)\n",
        "w[i, i] = np.exp(#put code here#)\n",
        "return w\n"
      ],
      "metadata": {
        "id": "mhJ_DbbjHpJy"
      },
      "execution_count": null,
      "outputs": []
    },
    {
      "cell_type": "code",
      "source": [
        "#Predict function\n",
        "def predict(X, y, point, tau):\n",
        "# m = number of training examples.\n",
        "m = X.shape[0]\n",
        "# Appending a column of ones in X to add the bias term.\n",
        "## # Just one parameter: theta, that's why adding a column of ones ##\n",
        "## to X and also adding a 1 for the point where we want to ##\n",
        "## predict.\n",
        "p\n",
        "X_ = np.append(X, np.ones(m).reshape(m,1), axis=1)\n",
        "# point is the x where we want to make the prediction.\n",
        "point_ = np.array([point, 1])\n",
        "# Calculating the weight matrix using the wm function we wrote # # earlier.\n",
        "w = wm(point_, X_, tau)\n",
        "# Calculating parameter theta using the formula.\n",
        "theta = np.linalg.pinv(X_.T*(w * X_))*(X_.T*(w * y))\n",
        "# Calculating predictions.\n",
        "pred = np.dot(point_, theta)\n",
        "# Returning the theta and predictions\n",
        "return theta, pred"
      ],
      "metadata": {
        "id": "uO8TDnj5LfTR"
      },
      "execution_count": null,
      "outputs": []
    },
    {
      "cell_type": "code",
      "source": [
        "#Now, let’s plot our predictions for about 100 points(x) which are in the domain of x.\n",
        "#See comments (#)\n",
        "def plot_predictions(X, y, tau, nval):\n",
        "# X --> Training data.\n",
        "# y --> Output sequence.\n",
        "# nval --> number of values/points for which we are going to\n",
        "# predict.\n",
        "# tau --> the bandwidth.\n",
        "# The values for which we are going to predict.\n",
        "# X_test includes nval evenly spaced values in the domain of X.\n",
        "X_test = np.linspace(-3, 3, nval)\n",
        "# Empty list for storing predictions.\n",
        "preds = []\n",
        "# Predicting for all nval values and storing them in preds.\n",
        "for point in X_test:\n",
        "theta, pred = predict(X, y, point, tau)\n",
        "preds.append(pred)\n",
        "# Reshaping X_test and preds\n",
        "X_test = np.array(X_test).reshape(nval,1)\n",
        "preds = np.array(preds).reshape(nval,1)\n",
        "# Plotting\n",
        "plt.plot(X, y, 'b.')\n",
        "plt.plot(X_test, preds, 'r.') # Predictions in red color.\n",
        "plt.show()\n"
      ],
      "metadata": {
        "id": "ixVwP766LoWD"
      },
      "execution_count": null,
      "outputs": []
    },
    {
      "cell_type": "code",
      "source": [
        "plot_predictions(X, y, 0.08, 100)"
      ],
      "metadata": {
        "id": "Beadw9zlLvbV"
      },
      "execution_count": null,
      "outputs": []
    }
  ]
}