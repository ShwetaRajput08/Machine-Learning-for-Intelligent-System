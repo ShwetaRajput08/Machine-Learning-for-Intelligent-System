{
  "nbformat": 4,
  "nbformat_minor": 0,
  "metadata": {
    "colab": {
      "provenance": [],
      "authorship_tag": "ABX9TyMJoNxhuacbJ2AYEInrab0+",
      "include_colab_link": true
    },
    "kernelspec": {
      "name": "python3",
      "display_name": "Python 3"
    },
    "language_info": {
      "name": "python"
    }
  },
  "cells": [
    {
      "cell_type": "markdown",
      "metadata": {
        "id": "view-in-github",
        "colab_type": "text"
      },
      "source": [
        "<a href=\"https://colab.research.google.com/github/ShwetaRajput08/Machine-Learning-for-Intelligent-System/blob/main/MLIS_Lect_Lab_Assignment.ipynb\" target=\"_parent\"><img src=\"https://colab.research.google.com/assets/colab-badge.svg\" alt=\"Open In Colab\"/></a>"
      ]
    },
    {
      "cell_type": "code",
      "execution_count": null,
      "metadata": {
        "id": "2OKIpmRCf5V_"
      },
      "outputs": [],
      "source": [
        "# 📘 K-Nearest Neighbors (KNN) - Step-by-Step Learning\n",
        "# 🧑‍🏫 Author: [Your Name]\n",
        "\n",
        "# -----------------------------\n",
        "# 🔹 1. Import Libraries\n",
        "# -----------------------------\n",
        "import numpy as np\n",
        "import pandas as pd\n",
        "import matplotlib.pyplot as plt\n",
        "from sklearn.datasets import load_iris\n",
        "from sklearn.model_selection import train_test_split\n",
        "from sklearn.neighbors import KNeighborsClassifier\n",
        "from sklearn.metrics import classification_report, accuracy_score\n",
        "from collections import Counter"
      ]
    },
    {
      "cell_type": "code",
      "source": [
        "# -----------------------------\n",
        "# 🔹 2. Load Iris Dataset\n",
        "# -----------------------------\n",
        "iris = load_iris()\n",
        "X = iris.data\n",
        "y = iris.target\n",
        "df = pd.DataFrame(X, columns=iris.feature_names)\n",
        "df['target'] = y\n",
        "df['target_name'] = df['target'].apply(lambda i: iris.target_names[i])\n",
        "df.head()\n"
      ],
      "metadata": {
        "id": "E2NgNwwbgBwI"
      },
      "execution_count": null,
      "outputs": []
    },
    {
      "cell_type": "code",
      "source": [
        "\n",
        "# -----------------------------\n",
        "# 🔹 3. Visualize the Data\n",
        "# -----------------------------\n",
        "plt.figure(figsize=(8, 6))\n",
        "for label in np.unique(y):\n",
        "    plt.scatter(X[y == label, 0], X[y == label, 2], label=iris.target_names[label])\n",
        "plt.xlabel('Sepal Length (cm)')\n",
        "plt.ylabel('Petal Length (cm)')\n",
        "plt.title('Iris Dataset Visualization')\n",
        "plt.legend()\n",
        "plt.grid(True)\n",
        "plt.show()\n"
      ],
      "metadata": {
        "id": "l6UwwD3ggEPZ"
      },
      "execution_count": null,
      "outputs": []
    },
    {
      "cell_type": "code",
      "source": [
        "\n",
        "# -----------------------------\n",
        "# 🔹 4. Manual KNN Implementation\n",
        "# -----------------------------\n",
        "def euclidean_distance(x1, x2):\n",
        "    return np.sqrt(np.sum((x1 - x2) ** 2))\n",
        "\n",
        "class KNN_Manual:\n",
        "    def __init__(self, k=3):\n",
        "        self.k = k\n",
        "\n",
        "    def fit(self, X, y):\n",
        "        self.X_train = X\n",
        "        self.y_train = y\n",
        "\n",
        "    def predict(self, X):\n",
        "        y_pred = [self._predict(x) for x in X]\n",
        "        return np.array(y_pred)\n",
        "\n",
        "    def _predict(self, x):\n",
        "        distances = [euclidean_distance(x, x_train) for x_train in self.X_train]\n",
        "        k_indices = np.argsort(distances)[:self.k]\n",
        "        k_nearest_labels = [self.y_train[i] for i in k_indices]\n",
        "        return Counter(k_nearest_labels).most_common(1)[0][0]"
      ],
      "metadata": {
        "id": "j1b0BqW3gGrC"
      },
      "execution_count": null,
      "outputs": []
    },
    {
      "cell_type": "code",
      "source": [
        "# -----------------------------\n",
        "# 🔹 5. Split the Dataset\n",
        "# -----------------------------\n",
        "X_train, X_test, y_train, y_test = train_test_split(X, y, test_size=0.3, random_state=42)\n"
      ],
      "metadata": {
        "id": "kqnjswaWgK2D"
      },
      "execution_count": null,
      "outputs": []
    },
    {
      "cell_type": "code",
      "source": [
        "\n",
        "# -----------------------------\n",
        "# 🔹 6. Train and Test Manual KNN\n",
        "# -----------------------------\n",
        "model_manual = KNN_Manual(k=3)\n",
        "model_manual.fit(X_train, y_train)\n",
        "pred_manual = model_manual.predict(X_test)\n",
        "\n",
        "print(\"🔍 Manual KNN Accuracy:\", accuracy_score(y_test, pred_manual))\n",
        "print(classification_report(y_test, pred_manual, target_names=iris.target_names))\n",
        "\n"
      ],
      "metadata": {
        "id": "6wZj8dGagM6V"
      },
      "execution_count": null,
      "outputs": []
    },
    {
      "cell_type": "code",
      "source": [
        "# -----------------------------\n",
        "# 🔹 7. KNN with Scikit-Learn\n",
        "# -----------------------------\n",
        "model_sklearn = KNeighborsClassifier(n_neighbors=3)\n",
        "model_sklearn.fit(X_train, y_train)\n",
        "pred_sklearn = model_sklearn.predict(X_test)\n",
        "\n",
        "print(\"✅ Scikit-Learn KNN Accuracy:\", accuracy_score(y_test, pred_sklearn))\n",
        "print(classification_report(y_test, pred_sklearn, target_names=iris.target_names))\n",
        "\n"
      ],
      "metadata": {
        "id": "-bNhZY5XgO2L"
      },
      "execution_count": null,
      "outputs": []
    },
    {
      "cell_type": "code",
      "source": [
        "# -----------------------------\n",
        "# 🔹 8. Try It Yourself!\n",
        "# -----------------------------\n",
        "# Task: Change the value of K and see how the accuracy changes\n",
        "k_values = list(range(1, 11))\n",
        "acc_scores = []\n",
        "\n",
        "for k in k_values:\n",
        "    knn = KNeighborsClassifier(n_neighbors=k)\n",
        "    knn.fit(X_train, y_train)\n",
        "    y_pred = knn.predict(X_test)\n",
        "    acc_scores.append(accuracy_score(y_test, y_pred))\n",
        "\n",
        "plt.plot(k_values, acc_scores, marker='o')\n",
        "plt.title('K vs Accuracy')\n",
        "plt.xlabel('Number of Neighbors (K)')\n",
        "plt.ylabel('Accuracy')\n",
        "plt.grid(True)\n",
        "plt.show()"
      ],
      "metadata": {
        "id": "5pQBAPkCgQl7"
      },
      "execution_count": null,
      "outputs": []
    },
    {
      "cell_type": "code",
      "source": [
        "\n",
        "# -----------------------------\n",
        "# 🔹 9. Student Practice Section\n",
        "# -----------------------------\n",
        "# 👉 TASK: Load a new dataset (or upload CSV) Breast Cancer Wisconsin Dataset https://raw.githubusercontent.com/selva86/datasets/master/BreastCancer.csv\n",
        "# 👉 TASK: Apply KNN on that dataset\n",
        "# 👉 TASK: Try scaling features using StandardScaler\n",
        "# 👉 TASK: Visualize classification boundaries (using 2 features)\n",
        "\n"
      ],
      "metadata": {
        "id": "Vbi2-eY8gTPb"
      },
      "execution_count": null,
      "outputs": []
    }
  ]
}